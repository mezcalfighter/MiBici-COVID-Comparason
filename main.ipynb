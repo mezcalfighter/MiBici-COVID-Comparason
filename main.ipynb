{
 "cells": [
  {
   "cell_type": "markdown",
   "metadata": {},
   "source": []
  },
  {
   "cell_type": "code",
   "execution_count": 106,
   "metadata": {},
   "outputs": [],
   "source": [
    "# importacion de modulos\n",
    "import pandas as pd\n",
    "import matplotlib as plt\n",
    "import numpy as np\n",
    "\n",
    "#lectura archivos\n",
    "pre_raw = []\n",
    "dur_raw = []\n",
    "\n",
    "for number in range(1,15):\n",
    "    pre_raw.append(pd.read_csv(\"./pre-covid/precovid_{}.csv\".format(number)))\n",
    "    dur_raw.append(pd.read_csv(\"./dur-covid/during_{}.csv\".format(number)))\n",
    "\n",
    "#concat the information (2018 - March 2019 /  April 2019 - Julio 2020)\n",
    "pre_df = pd.concat(pre_raw)\n",
    "dur_df = pd.concat(dur_raw)\n",
    "esta_df = pd.read_csv(\"./estaciones/Estaciones.csv\", index_col = 0)\n",
    "\n",
    "#Drop useless\n",
    "pre_df.dropna(axis = 0, inplace = True)\n",
    "dur_df.dropna(axis = 0, inplace = True)\n",
    "pre_df = pd.merge(esta_df, pre_df, how = 'outer', on = ['Origen_Id'])\n",
    "dur_df = pd.merge(esta_df, dur_df, how = 'outer', on = ['Origen_Id'])\n",
    "\n",
    "#Sort usage\n",
    "pre_count = pre_df[\"Nombre de la Estación\"].value_counts().sort_values(ascending=False)\n",
    "dur_count = dur_df[\"Nombre de la Estación\"].value_counts().sort_values(ascending=False)\n"
   ]
  },
  {
   "cell_type": "code",
   "execution_count": 129,
   "metadata": {},
   "outputs": [
    {
     "data": {
      "text/plain": [
       "(GDL-049) Lopez Cotilla/ Marcos Castellanos      97007\n",
       "(GDL-048) C. Constancio Hernández/ Av. Juaréz    80961\n",
       "(GDL-009) Calz. Federalismo/ C. J. Angulo        69382\n",
       "(GDL-050) C. Pedro Moreno / Calz. Federalismo    69084\n",
       "(GDL-127) Av. Vallarta / Av. de Los Arcos        64354\n",
       "                                                 ...  \n",
       "(GDL-182) C. General Coronado / C. Manuel Acu    11323\n",
       "(GDL-137) C. Ruíz de Alarcón/C. Efraín G Luna    11272\n",
       "(GDL-141) C. Ruíz de Alarcón/C. Agustín Yáñez    11135\n",
       "(GDL-123) C. Aurelio L. Gallardo / Av. México    11115\n",
       "(GDL-114) C. Monte Cáucaso / C. Alameda          10977\n",
       "Name: Nombre de la Estación, Length: 150, dtype: int64"
      ]
     },
     "execution_count": 129,
     "metadata": {},
     "output_type": "execute_result"
    }
   ],
   "source": [
    "#Count before the COVID Pandemic\n",
    "pre_count.head(150)"
   ]
  },
  {
   "cell_type": "code",
   "execution_count": 130,
   "metadata": {},
   "outputs": [
    {
     "data": {
      "text/plain": [
       "(GDL-049) Lopez Cotilla/ Marcos Castellanos      100601\n",
       "(GDL-048) C. Constancio Hernández/ Av. Juaréz     83607\n",
       "(GDL-009) Calz. Federalismo/ C. J. Angulo         77733\n",
       "(GDL-050) C. Pedro Moreno / Calz. Federalismo     76816\n",
       "(GDL-127) Av. Vallarta / Av. de Los Arcos         73139\n",
       "(GDL-033) Av. Hidalgo / C. Pedro Loza             72620\n",
       "(GDL-052) Av. Juárez / Av. 16 de Septiembre       68142\n",
       "(GDL-198) Av. Alcalde / C. Hospital               66738\n",
       "(GDL-032) C. Degollado / Av. Hidalgo              60589\n",
       "(GDL-073) Av. La Paz / Av. Federalismo            58140\n",
       "(GDL-063) C. Colonias  / C. López Cotilla         53266\n",
       "(GDL-056) Av. 16 de Sept. / C. Miguel Blanco      52503\n",
       "(GDL-106) C. Juan ¡lvarez / C. Belén              49841\n",
       "(GDL-054) Av. Juárez / Calz. Independencia        49782\n",
       "(GDL-064) C. Marsella / C. López Cotilla          49247\n",
       "(GDL-036) C. Marcos Castellanos/ C. Morelos       48548\n",
       "(GDL-019)  C. Juan Manuel / C. Andrés Terán       48137\n",
       "(GDL-051) C. 8 de Julio / Av. Juárez              44181\n",
       "(GDL-187) Av. 16 de Septiembre / C. Priscilia     42686\n",
       "(GDL-025) C. Reforma / C. González Ortega         42170\n",
       "Name: Nombre de la Estación, dtype: int64"
      ]
     },
     "execution_count": 130,
     "metadata": {},
     "output_type": "execute_result"
    }
   ],
   "source": [
    "#Count during the COVID Pandemic\n",
    "dur_count.head(20)"
   ]
  },
  {
   "cell_type": "code",
   "execution_count": 137,
   "metadata": {},
   "outputs": [
    {
     "data": {
      "text/plain": [
       "Ex-GDL-020 Juan Manuel / C.General Coronado     -7315\n",
       "(GDL-002) C. Colonias  / Av.  Niños Héroes      -5508\n",
       "(GDL-078) C. Comercio / C. La Paz               -5450\n",
       "(GDL-055) C. Degollado /C.Prisciliano Sánchez   -5317\n",
       "(GDL-065) C. Simón Bolivar / Av. La Paz         -5277\n",
       "(GDL-001) C. Epigmenio Glez./ Av. 16 de Sept.   -4910\n",
       "(GDL-104) C. Pedro Loza / Av. Manuel Acuña      -4872\n",
       "Ex-GDL-182 Av. Plan de San Luis / Av. Enríque   -4824\n",
       "(GDL-084) C. Montenegro / Av. Chapultepec       -4712\n",
       "(GDL-030) C. Pedro Moreno/ C. Progreso          -4208\n",
       "(GDL-012) C. Joaquín Angulo / C. Ghilardi       -3736\n",
       "(GDL-096) C. Jesús García / C. González Orte    -3675\n",
       "(GDL-023) C. Jesús / C. San Felipe              -3279\n",
       "(GDL-095)  C. Mariano Bárcena / Maestros        -2922\n",
       "(GDL-128) Av. Morelos / C. Emilio Castelar      -2909\n",
       "(GDL-136) C. Lope de Vega/C. Efraín Glez Luna   -2553\n",
       "(GDL-067) Calzada Federalismo / C. Vidrio       -2200\n",
       "(GDL-061) C. Libertad /  C. Argentina           -2113\n",
       "(GDL-129) C. Lope de Vega / Av. Vallarta        -2106\n",
       "(GDL-053) C. Maestranza / Av. Juárez            -2082\n",
       "Name: Nombre de la Estación, dtype: int64"
      ]
     },
     "execution_count": 137,
     "metadata": {},
     "output_type": "execute_result"
    }
   ],
   "source": [
    "#Difference \n",
    "difference = dur_count - pre_count\n",
    "difference.sort_values(ascending=True).head(20)\n",
    "#difference.head(50)"
   ]
  }
 ],
 "metadata": {
  "kernelspec": {
   "display_name": "Python 3 (ipykernel)",
   "language": "python",
   "name": "python3"
  },
  "language_info": {
   "codemirror_mode": {
    "name": "ipython",
    "version": 3
   },
   "file_extension": ".py",
   "mimetype": "text/x-python",
   "name": "python",
   "nbconvert_exporter": "python",
   "pygments_lexer": "ipython3",
   "version": "3.11.0"
  },
  "vscode": {
   "interpreter": {
    "hash": "69117183018b72484a6c6d0cbe06a1846585933f57820d0849135136a27bb87b"
   }
  }
 },
 "nbformat": 4,
 "nbformat_minor": 4
}
