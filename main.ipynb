{
 "cells": [
  {
   "cell_type": "markdown",
   "metadata": {},
   "source": []
  },
  {
   "cell_type": "code",
   "execution_count": 7,
   "metadata": {},
   "outputs": [],
   "source": [
    "# importacion de modulos\n",
    "import pandas as pd\n",
    "import matplotlib as plt\n",
    "import numpy as np\n",
    "\n",
    "#lectura archivos\n",
    "pre_raw = []\n",
    "dur_raw = []\n",
    "\n",
    "for number in range(1,15):\n",
    "    pre_raw.append(pd.read_csv(\"./pre-covid/precovid_{}.csv\".format(number)))\n",
    "    dur_raw.append(pd.read_csv(\"./dur-covid/during_{}.csv\".format(number)))\n",
    "\n",
    "#concat the information (2018 - March 2019 /  April 2019 - Julio 2020)\n",
    "pre_df = pd.concat(pre_raw)\n",
    "dur_df = pd.concat(dur_raw)\n",
    "esta_df = pd.read_csv(\"./estaciones/Estaciones.csv\", index_col = 0)\n",
    "\n",
    "#Drop useless\n",
    "pre_df.dropna(axis = 0, inplace = True)\n",
    "dur_df.dropna(axis = 0, inplace = True)\n",
    "pre_df = pd.merge(esta_df, pre_df, how = 'outer', on = ['Origen_Id'])\n",
    "dur_df = pd.merge(esta_df, dur_df, how = 'outer', on = ['Origen_Id'])\n",
    "\n",
    "#Sort usage\n",
    "pre_count = pre_df[\"Nombre de la Estación\"].value_counts().sort_values(ascending=False)\n",
    "dur_count = dur_df[\"Nombre de la Estación\"].value_counts().sort_values(ascending=False)\n"
   ]
  },
  {
   "cell_type": "code",
   "execution_count": 8,
   "metadata": {},
   "outputs": [
    {
     "data": {
      "text/plain": [
       "(GDL-049) Lopez Cotilla/ Marcos Castellanos      97007\n",
       "(GDL-048) C. Constancio Hernández/ Av. Juaréz    80961\n",
       "(GDL-009) Calz. Federalismo/ C. J. Angulo        69382\n",
       "(GDL-050) C. Pedro Moreno / Calz. Federalismo    69084\n",
       "(GDL-127) Av. Vallarta / Av. de Los Arcos        64354\n",
       "(GDL-052) Av. Juárez / Av. 16 de Septiembre      58167\n",
       "(GDL-073) Av. La Paz / Av. Federalismo           54729\n",
       "(GDL-033) Av. Hidalgo / C. Pedro Loza            50313\n",
       "(GDL-063) C. Colonias  / C. López Cotilla        50027\n",
       "(GDL-054) Av. Juárez / Calz. Independencia       47386\n",
       "Name: Nombre de la Estación, dtype: int64"
      ]
     },
     "execution_count": 8,
     "metadata": {},
     "output_type": "execute_result"
    }
   ],
   "source": [
    "#Count before the COVID Pandemic\n",
    "pre_count.head(10)"
   ]
  },
  {
   "cell_type": "code",
   "execution_count": 9,
   "metadata": {},
   "outputs": [
    {
     "data": {
      "text/plain": [
       "(GDL-049) Lopez Cotilla/ Marcos Castellanos      100601\n",
       "(GDL-048) C. Constancio Hernández/ Av. Juaréz     83607\n",
       "(GDL-009) Calz. Federalismo/ C. J. Angulo         77733\n",
       "(GDL-050) C. Pedro Moreno / Calz. Federalismo     76816\n",
       "(GDL-127) Av. Vallarta / Av. de Los Arcos         73139\n",
       "(GDL-033) Av. Hidalgo / C. Pedro Loza             72620\n",
       "(GDL-052) Av. Juárez / Av. 16 de Septiembre       68142\n",
       "(GDL-198) Av. Alcalde / C. Hospital               66738\n",
       "(GDL-032) C. Degollado / Av. Hidalgo              60589\n",
       "(GDL-073) Av. La Paz / Av. Federalismo            58140\n",
       "Name: Nombre de la Estación, dtype: int64"
      ]
     },
     "execution_count": 9,
     "metadata": {},
     "output_type": "execute_result"
    }
   ],
   "source": [
    "#Count during the COVID Pandemic\n",
    "dur_count.head(10)"
   ]
  },
  {
   "cell_type": "code",
   "execution_count": 10,
   "metadata": {},
   "outputs": [
    {
     "data": {
      "text/plain": [
       "Ex-GDL-020 Juan Manuel / C.General Coronado     -7315\n",
       "(GDL-002) C. Colonias  / Av.  Niños Héroes      -5508\n",
       "(GDL-078) C. Comercio / C. La Paz               -5450\n",
       "(GDL-055) C. Degollado /C.Prisciliano Sánchez   -5317\n",
       "(GDL-065) C. Simón Bolivar / Av. La Paz         -5277\n",
       "(GDL-001) C. Epigmenio Glez./ Av. 16 de Sept.   -4910\n",
       "(GDL-104) C. Pedro Loza / Av. Manuel Acuña      -4872\n",
       "Ex-GDL-182 Av. Plan de San Luis / Av. Enríque   -4824\n",
       "(GDL-084) C. Montenegro / Av. Chapultepec       -4712\n",
       "(GDL-030) C. Pedro Moreno/ C. Progreso          -4208\n",
       "Name: Nombre de la Estación, dtype: int64"
      ]
     },
     "execution_count": 10,
     "metadata": {},
     "output_type": "execute_result"
    }
   ],
   "source": [
    "#Difference \n",
    "difference = dur_count - pre_count\n",
    "difference.sort_values(ascending=True).head(10)\n",
    "#difference.head(50)"
   ]
  }
 ],
 "metadata": {
  "kernelspec": {
   "display_name": "Python 3 (ipykernel)",
   "language": "python",
   "name": "python3"
  },
  "language_info": {
   "codemirror_mode": {
    "name": "ipython",
    "version": 3
   },
   "file_extension": ".py",
   "mimetype": "text/x-python",
   "name": "python",
   "nbconvert_exporter": "python",
   "pygments_lexer": "ipython3",
   "version": "3.11.0"
  },
  "vscode": {
   "interpreter": {
    "hash": "69117183018b72484a6c6d0cbe06a1846585933f57820d0849135136a27bb87b"
   }
  }
 },
 "nbformat": 4,
 "nbformat_minor": 4
}
